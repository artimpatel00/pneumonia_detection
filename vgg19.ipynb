{
 "cells": [
  {
   "cell_type": "code",
   "execution_count": 1,
   "metadata": {},
   "outputs": [],
   "source": [
    "import os\n",
    "import matplotlib.pyplot as plt\n",
    "import numpy as np\n",
    "import time\n",
    "import tensorflow as tf\n",
    "from tensorflow import keras \n",
    "from tensorflow.keras import layers\n",
    "from tensorflow.keras import models\n",
    "from tensorflow.keras import optimizers\n",
    "from tensorflow.keras.applications import VGG19\n",
    "from tensorflow.keras.preprocessing.image import ImageDataGenerator"
   ]
  },
  {
   "cell_type": "code",
   "execution_count": 2,
   "metadata": {},
   "outputs": [],
   "source": [
    "tf.compat.v1.logging.set_verbosity(tf.compat.v1.logging.ERROR)"
   ]
  },
  {
   "cell_type": "code",
   "execution_count": 3,
   "metadata": {},
   "outputs": [],
   "source": [
    "train_dir = 'chest_xrays/train'\n",
    "test_dir = 'chest_xrays/test'"
   ]
  },
  {
   "cell_type": "code",
   "execution_count": 4,
   "metadata": {},
   "outputs": [],
   "source": [
    "vgg19 = VGG19(weights='imagenet',\n",
    "                  include_top=False,\n",
    "                  input_shape=(150, 150, 3))"
   ]
  },
  {
   "cell_type": "code",
   "execution_count": 5,
   "metadata": {},
   "outputs": [
    {
     "name": "stdout",
     "output_type": "stream",
     "text": [
      "Model: \"vgg19\"\n",
      "_________________________________________________________________\n",
      "Layer (type)                 Output Shape              Param #   \n",
      "=================================================================\n",
      "input_1 (InputLayer)         [(None, 150, 150, 3)]     0         \n",
      "_________________________________________________________________\n",
      "block1_conv1 (Conv2D)        (None, 150, 150, 64)      1792      \n",
      "_________________________________________________________________\n",
      "block1_conv2 (Conv2D)        (None, 150, 150, 64)      36928     \n",
      "_________________________________________________________________\n",
      "block1_pool (MaxPooling2D)   (None, 75, 75, 64)        0         \n",
      "_________________________________________________________________\n",
      "block2_conv1 (Conv2D)        (None, 75, 75, 128)       73856     \n",
      "_________________________________________________________________\n",
      "block2_conv2 (Conv2D)        (None, 75, 75, 128)       147584    \n",
      "_________________________________________________________________\n",
      "block2_pool (MaxPooling2D)   (None, 37, 37, 128)       0         \n",
      "_________________________________________________________________\n",
      "block3_conv1 (Conv2D)        (None, 37, 37, 256)       295168    \n",
      "_________________________________________________________________\n",
      "block3_conv2 (Conv2D)        (None, 37, 37, 256)       590080    \n",
      "_________________________________________________________________\n",
      "block3_conv3 (Conv2D)        (None, 37, 37, 256)       590080    \n",
      "_________________________________________________________________\n",
      "block3_conv4 (Conv2D)        (None, 37, 37, 256)       590080    \n",
      "_________________________________________________________________\n",
      "block3_pool (MaxPooling2D)   (None, 18, 18, 256)       0         \n",
      "_________________________________________________________________\n",
      "block4_conv1 (Conv2D)        (None, 18, 18, 512)       1180160   \n",
      "_________________________________________________________________\n",
      "block4_conv2 (Conv2D)        (None, 18, 18, 512)       2359808   \n",
      "_________________________________________________________________\n",
      "block4_conv3 (Conv2D)        (None, 18, 18, 512)       2359808   \n",
      "_________________________________________________________________\n",
      "block4_conv4 (Conv2D)        (None, 18, 18, 512)       2359808   \n",
      "_________________________________________________________________\n",
      "block4_pool (MaxPooling2D)   (None, 9, 9, 512)         0         \n",
      "_________________________________________________________________\n",
      "block5_conv1 (Conv2D)        (None, 9, 9, 512)         2359808   \n",
      "_________________________________________________________________\n",
      "block5_conv2 (Conv2D)        (None, 9, 9, 512)         2359808   \n",
      "_________________________________________________________________\n",
      "block5_conv3 (Conv2D)        (None, 9, 9, 512)         2359808   \n",
      "_________________________________________________________________\n",
      "block5_conv4 (Conv2D)        (None, 9, 9, 512)         2359808   \n",
      "_________________________________________________________________\n",
      "block5_pool (MaxPooling2D)   (None, 4, 4, 512)         0         \n",
      "=================================================================\n",
      "Total params: 20,024,384\n",
      "Trainable params: 20,024,384\n",
      "Non-trainable params: 0\n",
      "_________________________________________________________________\n"
     ]
    }
   ],
   "source": [
    "vgg19.summary()"
   ]
  },
  {
   "cell_type": "code",
   "execution_count": 6,
   "metadata": {},
   "outputs": [],
   "source": [
    "datagen = ImageDataGenerator(rescale=1./255)\n",
    "batch_size = 20\n",
    "datagen_aug = ImageDataGenerator(rescale=1./255,brightness_range=(0.5, 0.9),\n",
    "                                       horizontal_flip=True,\n",
    "                                       vertical_flip=False)"
   ]
  },
  {
   "cell_type": "code",
   "execution_count": 10,
   "metadata": {},
   "outputs": [],
   "source": [
    "def extract_features(directory, sample_count):\n",
    "    features = np.zeros(shape=(sample_count, 4, 4, 512))\n",
    "    labels = np.zeros(shape=(sample_count))\n",
    "    generator = datagen.flow_from_directory(\n",
    "        directory,\n",
    "        target_size=(150, 150),\n",
    "        batch_size=batch_size,\n",
    "        class_mode='binary')\n",
    "    i = 0\n",
    "    for inputs_batch, labels_batch in generator:\n",
    "        features_batch = vgg19.predict(inputs_batch)\n",
    "        features[i * batch_size: (i + 1) * batch_size] = features_batch\n",
    "        labels[i * batch_size: (i + 1) * batch_size] = labels_batch\n",
    "        i += 1\n",
    "        if i * batch_size >= sample_count:\n",
    "            break\n",
    "    return features, labels"
   ]
  },
  {
   "cell_type": "code",
   "execution_count": 11,
   "metadata": {},
   "outputs": [],
   "source": [
    "def extract_train_features(directory, sample_count):\n",
    "    features = np.zeros(shape=(sample_count, 4, 4, 512))\n",
    "    labels = np.zeros(shape=(sample_count))\n",
    "    generator = datagen_aug.flow_from_directory(\n",
    "        directory,\n",
    "        target_size=(150, 150),\n",
    "        batch_size=batch_size,\n",
    "        class_mode='binary')\n",
    "    i = 0\n",
    "    for inputs_batch, labels_batch in generator:\n",
    "        features_batch = vgg19.predict(inputs_batch)\n",
    "        features[i * batch_size: (i + 1) * batch_size] = features_batch\n",
    "        labels[i * batch_size: (i + 1) * batch_size] = labels_batch\n",
    "        i += 1\n",
    "        if i * batch_size >= sample_count:\n",
    "            break\n",
    "    return features, labels"
   ]
  },
  {
   "cell_type": "code",
   "execution_count": 12,
   "metadata": {},
   "outputs": [
    {
     "name": "stdout",
     "output_type": "stream",
     "text": [
      "Found 4159 images belonging to 2 classes.\n",
      "Found 624 images belonging to 2 classes.\n",
      "Total time to extract features: 8.429761123657226\n"
     ]
    }
   ],
   "source": [
    "start = time.time()\n",
    "train_features, train_labels = extract_train_features(train_dir, 4159)\n",
    "validation_features, validation_labels = extract_features(test_dir, 624)\n",
    "print(\"Total time to extract features:\", (time.time() - start)/60)"
   ]
  },
  {
   "cell_type": "code",
   "execution_count": 13,
   "metadata": {},
   "outputs": [],
   "source": [
    "# Flatten features for input into densely connected classifier\n",
    "train_features = np.reshape(train_features, (4159, 4 * 4 * 512))\n",
    "validation_features = np.reshape(validation_features, (624, 4 * 4 * 512))"
   ]
  },
  {
   "cell_type": "code",
   "execution_count": 14,
   "metadata": {},
   "outputs": [],
   "source": [
    "np.save('./features/train_features.npy', train_features)\n",
    "np.save('./features/train_labels.npy', train_labels)\n",
    "np.save('./features/validation_features.npy', validation_features)\n",
    "np.save('./features/validation_labels.npy', validation_labels)"
   ]
  },
  {
   "cell_type": "code",
   "execution_count": 15,
   "metadata": {},
   "outputs": [],
   "source": [
    "train_features = np.load('./features/train_features.npy')\n",
    "train_labels = np.load('./features/train_labels.npy')\n",
    "\n",
    "validation_features = np.load('./features/validation_features.npy')\n",
    "validation_labels = np.load('./features/validation_labels.npy')"
   ]
  },
  {
   "cell_type": "code",
   "execution_count": 16,
   "metadata": {},
   "outputs": [],
   "source": [
    "dense = models.Sequential()\n",
    "dense.add(layers.Dense(256, activation='relu', input_dim=4 * 4 * 512))\n",
    "dense.add(layers.Dropout(0.5)) \n",
    "dense.add(layers.Dense(1, activation='sigmoid'))"
   ]
  },
  {
   "cell_type": "code",
   "execution_count": 17,
   "metadata": {},
   "outputs": [],
   "source": [
    "dense.compile(optimizer=optimizers.RMSprop(lr=2e-5),\n",
    "              loss='binary_crossentropy', \n",
    "              metrics=['acc'])"
   ]
  },
  {
   "cell_type": "code",
   "execution_count": 22,
   "metadata": {},
   "outputs": [
    {
     "name": "stdout",
     "output_type": "stream",
     "text": [
      "Train on 4159 samples, validate on 624 samples\n",
      "Epoch 1/30\n",
      "4159/4159 [==============================] - 1s 224us/sample - loss: 0.1195 - acc: 0.9562 - val_loss: 0.6474 - val_acc: 0.7612\n",
      "Epoch 2/30\n",
      "4159/4159 [==============================] - 1s 217us/sample - loss: 0.1138 - acc: 0.9577 - val_loss: 0.5628 - val_acc: 0.7804\n",
      "Epoch 3/30\n",
      "4159/4159 [==============================] - 1s 220us/sample - loss: 0.1127 - acc: 0.9591 - val_loss: 0.6430 - val_acc: 0.7692\n",
      "Epoch 4/30\n",
      "4159/4159 [==============================] - 1s 211us/sample - loss: 0.1124 - acc: 0.9565 - val_loss: 0.5344 - val_acc: 0.7901\n",
      "Epoch 5/30\n",
      "4159/4159 [==============================] - 1s 194us/sample - loss: 0.1053 - acc: 0.9613 - val_loss: 0.7775 - val_acc: 0.7452\n",
      "Epoch 6/30\n",
      "4159/4159 [==============================] - 1s 215us/sample - loss: 0.1075 - acc: 0.9620 - val_loss: 0.6656 - val_acc: 0.7660\n",
      "Epoch 7/30\n",
      "4159/4159 [==============================] - 1s 215us/sample - loss: 0.1049 - acc: 0.9608 - val_loss: 0.5756 - val_acc: 0.7869\n",
      "Epoch 8/30\n",
      "4159/4159 [==============================] - 1s 212us/sample - loss: 0.1008 - acc: 0.9627 - val_loss: 0.6146 - val_acc: 0.7821\n",
      "Epoch 9/30\n",
      "4159/4159 [==============================] - 1s 220us/sample - loss: 0.1017 - acc: 0.9606 - val_loss: 0.6930 - val_acc: 0.7644\n",
      "Epoch 10/30\n",
      "4159/4159 [==============================] - 1s 212us/sample - loss: 0.0972 - acc: 0.9649 - val_loss: 0.6687 - val_acc: 0.7772\n",
      "Epoch 11/30\n",
      "4159/4159 [==============================] - 1s 212us/sample - loss: 0.0914 - acc: 0.9651 - val_loss: 0.5840 - val_acc: 0.7933\n",
      "Epoch 12/30\n",
      "4159/4159 [==============================] - 1s 218us/sample - loss: 0.0941 - acc: 0.9666 - val_loss: 0.8447 - val_acc: 0.7468\n",
      "Epoch 13/30\n",
      "4159/4159 [==============================] - 1s 217us/sample - loss: 0.0881 - acc: 0.9673 - val_loss: 0.7050 - val_acc: 0.7724\n",
      "Epoch 14/30\n",
      "4159/4159 [==============================] - 1s 222us/sample - loss: 0.0904 - acc: 0.9654 - val_loss: 0.6955 - val_acc: 0.7740\n",
      "Epoch 15/30\n",
      "4159/4159 [==============================] - 1s 217us/sample - loss: 0.0863 - acc: 0.9683 - val_loss: 0.6641 - val_acc: 0.7837\n",
      "Epoch 16/30\n",
      "4159/4159 [==============================] - 1s 219us/sample - loss: 0.0857 - acc: 0.9723 - val_loss: 0.8284 - val_acc: 0.7628\n",
      "Epoch 17/30\n",
      "4159/4159 [==============================] - 1s 217us/sample - loss: 0.0861 - acc: 0.9697 - val_loss: 0.6471 - val_acc: 0.7837\n",
      "Epoch 18/30\n",
      "4159/4159 [==============================] - 1s 220us/sample - loss: 0.0850 - acc: 0.9687 - val_loss: 0.6360 - val_acc: 0.7853\n",
      "Epoch 19/30\n",
      "4159/4159 [==============================] - 1s 221us/sample - loss: 0.0836 - acc: 0.9695 - val_loss: 0.6573 - val_acc: 0.7837\n",
      "Epoch 20/30\n",
      "4159/4159 [==============================] - 1s 219us/sample - loss: 0.0801 - acc: 0.9731 - val_loss: 1.0287 - val_acc: 0.7292\n",
      "Epoch 21/30\n",
      "4159/4159 [==============================] - 1s 222us/sample - loss: 0.0791 - acc: 0.9719 - val_loss: 0.7783 - val_acc: 0.7708\n",
      "Epoch 22/30\n",
      "4159/4159 [==============================] - 1s 219us/sample - loss: 0.0812 - acc: 0.9719 - val_loss: 0.7522 - val_acc: 0.7724\n",
      "Epoch 23/30\n",
      "4159/4159 [==============================] - 1s 218us/sample - loss: 0.0770 - acc: 0.9726 - val_loss: 0.8436 - val_acc: 0.7628\n",
      "Epoch 24/30\n",
      "4159/4159 [==============================] - 1s 215us/sample - loss: 0.0743 - acc: 0.9738 - val_loss: 0.7045 - val_acc: 0.7804\n",
      "Epoch 25/30\n",
      "4159/4159 [==============================] - 1s 216us/sample - loss: 0.0784 - acc: 0.9690 - val_loss: 0.8837 - val_acc: 0.7612\n",
      "Epoch 26/30\n",
      "4159/4159 [==============================] - 1s 217us/sample - loss: 0.0754 - acc: 0.9728 - val_loss: 0.7944 - val_acc: 0.7708\n",
      "Epoch 27/30\n",
      "4159/4159 [==============================] - 1s 218us/sample - loss: 0.0726 - acc: 0.9736 - val_loss: 0.8640 - val_acc: 0.7628\n",
      "Epoch 28/30\n",
      "4159/4159 [==============================] - 1s 215us/sample - loss: 0.0726 - acc: 0.9750 - val_loss: 0.7968 - val_acc: 0.7708\n",
      "Epoch 29/30\n",
      "4159/4159 [==============================] - 1s 211us/sample - loss: 0.0742 - acc: 0.9733 - val_loss: 0.8280 - val_acc: 0.7708\n",
      "Epoch 30/30\n",
      "4159/4159 [==============================] - 1s 214us/sample - loss: 0.0702 - acc: 0.9760 - val_loss: 0.7967 - val_acc: 0.7724\n"
     ]
    }
   ],
   "source": [
    "history = dense.fit(train_features, train_labels,\n",
    "                    epochs=30,\n",
    "                    batch_size=20,\n",
    "                    validation_data=[validation_features, validation_labels])"
   ]
  },
  {
   "cell_type": "code",
   "execution_count": 18,
   "metadata": {},
   "outputs": [],
   "source": [
    "vgg19.trainable = True\n",
    "\n",
    "set_trainable = False\n",
    "for layer in vgg19.layers:\n",
    "    if layer.name == 'block5_conv1':\n",
    "        set_trainable = True\n",
    "    if set_trainable:\n",
    "        layer.trainable = True\n",
    "    else:\n",
    "        layer.trainable = False"
   ]
  },
  {
   "cell_type": "code",
   "execution_count": 20,
   "metadata": {},
   "outputs": [],
   "source": [
    "model = models.Sequential()\n",
    "model.add(vgg19)\n",
    "model.add(layers.Flatten())\n",
    "model.add(dense)\n",
    "model.add(layers.Dropout(0.5))\n",
    "#model.add(dense)"
   ]
  },
  {
   "cell_type": "code",
   "execution_count": 21,
   "metadata": {},
   "outputs": [
    {
     "name": "stdout",
     "output_type": "stream",
     "text": [
      "Model: \"sequential_5\"\n",
      "_________________________________________________________________\n",
      "Layer (type)                 Output Shape              Param #   \n",
      "=================================================================\n",
      "vgg19 (Model)                (None, 4, 4, 512)         20024384  \n",
      "_________________________________________________________________\n",
      "flatten_4 (Flatten)          (None, 8192)              0         \n",
      "_________________________________________________________________\n",
      "sequential_3 (Sequential)    (None, 1)                 2097665   \n",
      "_________________________________________________________________\n",
      "dropout_2 (Dropout)          (None, 1)                 0         \n",
      "=================================================================\n",
      "Total params: 22,122,049\n",
      "Trainable params: 11,536,897\n",
      "Non-trainable params: 10,585,152\n",
      "_________________________________________________________________\n"
     ]
    }
   ],
   "source": [
    "model.summary()"
   ]
  },
  {
   "cell_type": "code",
   "execution_count": 22,
   "metadata": {},
   "outputs": [
    {
     "name": "stdout",
     "output_type": "stream",
     "text": [
      "Found 4159 images belonging to 2 classes.\n",
      "Found 624 images belonging to 2 classes.\n"
     ]
    }
   ],
   "source": [
    "train_datagen = ImageDataGenerator(rescale=1./255,brightness_range=(0.5, 0.9),\n",
    "                                       horizontal_flip=True,\n",
    "                                       vertical_flip=False)\n",
    "validation_datagen = ImageDataGenerator(rescale=1./255)\n",
    "\n",
    "train_generator = train_datagen.flow_from_directory(\n",
    "        train_dir,\n",
    "        target_size=(150, 150),\n",
    "        batch_size=20,\n",
    "        class_mode='binary')\n",
    "\n",
    "validation_generator = validation_datagen.flow_from_directory(\n",
    "        test_dir,\n",
    "        target_size=(150, 150),\n",
    "        batch_size=20,\n",
    "        class_mode='binary')"
   ]
  },
  {
   "cell_type": "code",
   "execution_count": 23,
   "metadata": {},
   "outputs": [],
   "source": [
    "model.compile(loss='binary_crossentropy',\n",
    "              optimizer=optimizers.RMSprop(lr=1e-4),\n",
    "              metrics=['acc'])"
   ]
  },
  {
   "cell_type": "code",
   "execution_count": null,
   "metadata": {},
   "outputs": [
    {
     "name": "stdout",
     "output_type": "stream",
     "text": [
      "Train for 207 steps, validate for 31 steps\n",
      "Epoch 1/10\n",
      " 23/207 [==>...........................] - ETA: 2:31 - loss: 8.3943 - acc: 0.4500"
     ]
    }
   ],
   "source": [
    "history = model.fit_generator(\n",
    "    train_generator,\n",
    "    steps_per_epoch=train_generator.samples//train_generator.batch_size,\n",
    "    epochs=10,\n",
    "    validation_data=validation_generator,\n",
    "    validation_steps=validation_generator.samples//validation_generator.batch_size)"
   ]
  },
  {
   "cell_type": "code",
   "execution_count": 35,
   "metadata": {},
   "outputs": [],
   "source": [
    "acc = history.history['acc']\n",
    "val_acc = history.history['val_acc']\n",
    "loss = history.history['loss']\n",
    "val_loss = history.history['val_loss']\n",
    "\n",
    "epochs = range(1, len(acc) + 1)"
   ]
  },
  {
   "cell_type": "code",
   "execution_count": 36,
   "metadata": {},
   "outputs": [
    {
     "data": {
      "image/png": "[encoded data removed]",
      "text/plain": [
       "<Figure size 432x288 with 1 Axes>"
      ]
     },
     "metadata": {
      "needs_background": "light"
     },
     "output_type": "display_data"
    }
   ],
   "source": [
    "plt.plot(epochs, loss, 'bo', label='Training loss')\n",
    "plt.plot(epochs, val_loss, 'b', label = 'Validation loss')\n",
    "plt.title('Training and Validation Loss')\n",
    "plt.xlabel('Epochs')\n",
    "plt.ylabel('Loss')\n",
    "plt.legend()\n",
    "plt.show()"
   ]
  },
  {
   "cell_type": "code",
   "execution_count": 37,
   "metadata": {},
   "outputs": [
    {
     "data": {
      "image/png": "[encoded data removed]",
      "text/plain": [
       "<Figure size 432x288 with 1 Axes>"
      ]
     },
     "metadata": {
      "needs_background": "light"
     },
     "output_type": "display_data"
    }
   ],
   "source": [
    "plt.plot(epochs, acc, 'bo', label='Training accuracy')\n",
    "plt.plot(epochs, val_acc, 'b', label = 'Validation accuracy')\n",
    "plt.title('Training and Validation Accuracy')\n",
    "plt.xlabel('Epochs')\n",
    "plt.ylabel('Accuracy')\n",
    "plt.legend()\n",
    "plt.show()"
   ]
  },
  {
   "cell_type": "code",
   "execution_count": null,
   "metadata": {},
   "outputs": [],
   "source": []
  }
 ],
 "metadata": {
  "kernelspec": {
   "display_name": "Python 3",
   "language": "python",
   "name": "python3"
  },
  "language_info": {
   "codemirror_mode": {
    "name": "ipython",
    "version": 3
   },
   "file_extension": ".py",
   "mimetype": "text/x-python",
   "name": "python",
   "nbconvert_exporter": "python",
   "pygments_lexer": "ipython3",
   "version": "3.7.4"
  }
 },
 "nbformat": 4,
 "nbformat_minor": 4
}
