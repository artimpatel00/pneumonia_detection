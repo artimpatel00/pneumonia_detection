{
 "cells": [
  {
   "cell_type": "code",
   "execution_count": 1,
   "metadata": {},
   "outputs": [],
   "source": [
    "import os\n",
    "import matplotlib.pyplot as plt\n",
    "import numpy as np\n",
    "import time\n",
    "import tensorflow as tf\n",
    "from tensorflow import keras \n",
    "from tensorflow.keras import layers\n",
    "from tensorflow.keras import models\n",
    "from tensorflow.keras import optimizers\n",
    "from tensorflow.keras.applications import VGG19\n",
    "from tensorflow.keras.preprocessing.image import ImageDataGenerator"
   ]
  },
  {
   "cell_type": "code",
   "execution_count": 2,
   "metadata": {},
   "outputs": [],
   "source": [
    "tf.compat.v1.logging.set_verbosity(tf.compat.v1.logging.ERROR)"
   ]
  },
  {
   "cell_type": "code",
   "execution_count": 3,
   "metadata": {},
   "outputs": [],
   "source": [
    "train_dir = 'chest_xrays/train'\n",
    "test_dir = 'chest_xrays/test'"
   ]
  },
  {
   "cell_type": "code",
   "execution_count": 20,
   "metadata": {},
   "outputs": [],
   "source": [
    "model = models.Sequential()\n",
    "\n",
    "# Convolutional base (feature extractor)\n",
    "model.add(layers.Conv2D(32, (3, 3), activation='relu', input_shape=(150,150, 3)))\n",
    "model.add(layers.MaxPooling2D((2, 2)))\n",
    "\n",
    "model.add(layers.Conv2D(64, (3, 3), activation='relu'))\n",
    "model.add(layers.MaxPooling2D((2, 2)))\n",
    "\n",
    "model.add(layers.Conv2D(128, (3, 3), activation='relu'))\n",
    "model.add(layers.MaxPooling2D((2, 2)))\n",
    "\n",
    "model.add(layers.Conv2D(128, (3, 3), activation='relu'))\n",
    "model.add(layers.MaxPooling2D((2, 2)))\n",
    "\n",
    "# Deep feed-forward classifier\n",
    "model.add(layers.Flatten())\n",
    "model.add(layers.Dense(512, activation='relu'))\n",
    "model.add(layers.Dense(1, activation='sigmoid'))"
   ]
  },
  {
   "cell_type": "code",
   "execution_count": 32,
   "metadata": {},
   "outputs": [],
   "source": [
    "model.compile(loss='binary_crossentropy', optimizer=optimizers.RMSprop(lr=1e-4), metrics=['acc'])"
   ]
  },
  {
   "cell_type": "code",
   "execution_count": 33,
   "metadata": {},
   "outputs": [],
   "source": [
    "transformation_ratio= 0.05"
   ]
  },
  {
   "cell_type": "code",
   "execution_count": 34,
   "metadata": {},
   "outputs": [
    {
     "name": "stdout",
     "output_type": "stream",
     "text": [
      "Found 4159 images belonging to 2 classes.\n",
      "Found 624 images belonging to 2 classes.\n"
     ]
    }
   ],
   "source": [
    "train_datagen = ImageDataGenerator(rescale=1./255,brightness_range=(0.5, 0.9),\n",
    "                                       horizontal_flip=True,\n",
    "                                       vertical_flip=False)\n",
    "\n",
    "test_datagen = ImageDataGenerator(rescale=1./255)\n",
    "\n",
    "train_generator = train_datagen.flow_from_directory(train_dir, target_size=(150, 150), batch_size=50, class_mode='binary')\n",
    "val_generator = test_datagen.flow_from_directory(test_dir, target_size=(150, 150), batch_size=50, class_mode='binary')"
   ]
  },
  {
   "cell_type": "code",
   "execution_count": 35,
   "metadata": {},
   "outputs": [
    {
     "name": "stdout",
     "output_type": "stream",
     "text": [
      "****************\n",
      "Class #0 = normal\n",
      "Class #1 = pneumonia\n",
      "****************\n"
     ]
    }
   ],
   "source": [
    "# show class indices\n",
    "print('****************')\n",
    "for cls, idx in train_generator.class_indices.items():\n",
    "    print('Class #{} = {}'.format(idx, cls))\n",
    "print('****************')"
   ]
  },
  {
   "cell_type": "code",
   "execution_count": 36,
   "metadata": {},
   "outputs": [
    {
     "name": "stdout",
     "output_type": "stream",
     "text": [
      "Train for 83 steps, validate for 12 steps\n",
      "Epoch 1/10\n",
      "83/83 [==============================] - 46s 553ms/step - loss: 0.0741 - acc: 0.9710 - val_loss: 1.1806 - val_acc: 0.7800\n",
      "Epoch 2/10\n",
      "83/83 [==============================] - 47s 566ms/step - loss: 0.0669 - acc: 0.9740 - val_loss: 1.2914 - val_acc: 0.7650\n",
      "Epoch 3/10\n",
      "83/83 [==============================] - 47s 563ms/step - loss: 0.0584 - acc: 0.9766 - val_loss: 1.0649 - val_acc: 0.8050\n",
      "Epoch 4/10\n",
      "83/83 [==============================] - 46s 558ms/step - loss: 0.0600 - acc: 0.9766 - val_loss: 2.7076 - val_acc: 0.7000\n",
      "Epoch 5/10\n",
      "83/83 [==============================] - 45s 542ms/step - loss: 0.0588 - acc: 0.9791 - val_loss: 1.2338 - val_acc: 0.7983\n",
      "Epoch 6/10\n",
      "83/83 [==============================] - 47s 569ms/step - loss: 0.0575 - acc: 0.9781 - val_loss: 1.9591 - val_acc: 0.7317\n",
      "Epoch 7/10\n",
      "83/83 [==============================] - 45s 539ms/step - loss: 0.0545 - acc: 0.9791 - val_loss: 2.4294 - val_acc: 0.7183\n",
      "Epoch 8/10\n",
      "83/83 [==============================] - 46s 559ms/step - loss: 0.0568 - acc: 0.9783 - val_loss: 1.6326 - val_acc: 0.7617\n",
      "Epoch 9/10\n",
      "83/83 [==============================] - 46s 551ms/step - loss: 0.0513 - acc: 0.9796 - val_loss: 1.6299 - val_acc: 0.7567\n",
      "Epoch 10/10\n",
      "83/83 [==============================] - 46s 560ms/step - loss: 0.0503 - acc: 0.9805 - val_loss: 2.0098 - val_acc: 0.7467\n"
     ]
    }
   ],
   "source": [
    "history = model.fit_generator(\n",
    "    train_generator,\n",
    "    steps_per_epoch=train_generator.samples//train_generator.batch_size,\n",
    "    epochs=10,\n",
    "    validation_data=val_generator, validation_steps=val_generator.samples//val_generator.batch_size,\n",
    "    verbose=1)"
   ]
  },
  {
   "cell_type": "code",
   "execution_count": 10,
   "metadata": {},
   "outputs": [],
   "source": [
    "acc = history.history['acc']\n",
    "val_acc = history.history['val_acc']\n",
    "loss = history.history['loss']\n",
    "val_loss = history.history['val_loss']\n",
    "\n",
    "epochs = range(1, len(acc) + 1)"
   ]
  },
  {
   "cell_type": "code",
   "execution_count": 11,
   "metadata": {},
   "outputs": [
    {
     "data": {
      "image/png": "[encoded data removed]",
      "text/plain": [
       "<Figure size 432x288 with 1 Axes>"
      ]
     },
     "metadata": {
      "needs_background": "light"
     },
     "output_type": "display_data"
    }
   ],
   "source": [
    "plt.plot(epochs, loss, 'bo', label='Training loss')\n",
    "plt.plot(epochs, val_loss, 'b', label = 'Validation loss')\n",
    "plt.title('Training and Validation Loss')\n",
    "plt.xlabel('Epochs')\n",
    "plt.ylabel('Loss')\n",
    "plt.legend()\n",
    "plt.show()"
   ]
  },
  {
   "cell_type": "code",
   "execution_count": 12,
   "metadata": {},
   "outputs": [
    {
     "data": {
      "image/png": "[encoded data removed]",
      "text/plain": [
       "<Figure size 432x288 with 1 Axes>"
      ]
     },
     "metadata": {
      "needs_background": "light"
     },
     "output_type": "display_data"
    }
   ],
   "source": [
    "plt.plot(epochs, acc, 'bo', label='Training accuracy')\n",
    "plt.plot(epochs, val_acc, 'b', label = 'Validation accuracy')\n",
    "plt.title('Training and Validation Accuracy')\n",
    "plt.xlabel('Epochs')\n",
    "plt.ylabel('Accuracy')\n",
    "plt.legend()\n",
    "plt.show()"
   ]
  },
  {
   "cell_type": "markdown",
   "metadata": {},
   "source": [
    "### Regularized"
   ]
  },
  {
   "cell_type": "code",
   "execution_count": 13,
   "metadata": {},
   "outputs": [],
   "source": [
    "reg_model = models.Sequential()\n",
    "\n",
    "# Convolutional base (feature extractor)\n",
    "reg_model.add(layers.Conv2D(32, (3, 3), activation='relu', input_shape=(150, 150, 3)))\n",
    "reg_model.add(layers.MaxPooling2D((2, 2)))\n",
    "reg_model.add(layers.BatchNormalization())\n",
    "\n",
    "reg_model.add(layers.Conv2D(64, (3, 3), activation='relu',))\n",
    "reg_model.add(layers.MaxPooling2D((2, 2)))\n",
    "reg_model.add(layers.BatchNormalization())\n",
    "\n",
    "reg_model.add(layers.Conv2D(128, (3, 3), activation='relu'))\n",
    "reg_model.add(layers.MaxPooling2D((2, 2)))\n",
    "reg_model.add(layers.BatchNormalization())\n",
    "\n",
    "\n",
    "reg_model.add(layers.Flatten())\n",
    "reg_model.add(layers.Dense(256, activation='relu'))\n",
    "reg_model.add(layers.Dropout(0.5))\n",
    "reg_model.add(layers.Dense(128, activation='relu'))\n",
    "reg_model.add(layers.Dropout(0.5))\n",
    "reg_model.add(layers.Dense(1, activation='sigmoid'))"
   ]
  },
  {
   "cell_type": "code",
   "execution_count": 14,
   "metadata": {},
   "outputs": [
    {
     "name": "stdout",
     "output_type": "stream",
     "text": [
      "Model: \"sequential_1\"\n",
      "_________________________________________________________________\n",
      "Layer (type)                 Output Shape              Param #   \n",
      "=================================================================\n",
      "conv2d_4 (Conv2D)            (None, 148, 148, 32)      896       \n",
      "_________________________________________________________________\n",
      "max_pooling2d_4 (MaxPooling2 (None, 74, 74, 32)        0         \n",
      "_________________________________________________________________\n",
      "batch_normalization (BatchNo (None, 74, 74, 32)        128       \n",
      "_________________________________________________________________\n",
      "conv2d_5 (Conv2D)            (None, 72, 72, 64)        18496     \n",
      "_________________________________________________________________\n",
      "max_pooling2d_5 (MaxPooling2 (None, 36, 36, 64)        0         \n",
      "_________________________________________________________________\n",
      "batch_normalization_1 (Batch (None, 36, 36, 64)        256       \n",
      "_________________________________________________________________\n",
      "conv2d_6 (Conv2D)            (None, 34, 34, 128)       73856     \n",
      "_________________________________________________________________\n",
      "max_pooling2d_6 (MaxPooling2 (None, 17, 17, 128)       0         \n",
      "_________________________________________________________________\n",
      "batch_normalization_2 (Batch (None, 17, 17, 128)       512       \n",
      "_________________________________________________________________\n",
      "flatten_1 (Flatten)          (None, 36992)             0         \n",
      "_________________________________________________________________\n",
      "dense_2 (Dense)              (None, 256)               9470208   \n",
      "_________________________________________________________________\n",
      "dropout (Dropout)            (None, 256)               0         \n",
      "_________________________________________________________________\n",
      "dense_3 (Dense)              (None, 128)               32896     \n",
      "_________________________________________________________________\n",
      "dropout_1 (Dropout)          (None, 128)               0         \n",
      "_________________________________________________________________\n",
      "dense_4 (Dense)              (None, 1)                 129       \n",
      "=================================================================\n",
      "Total params: 9,597,377\n",
      "Trainable params: 9,596,929\n",
      "Non-trainable params: 448\n",
      "_________________________________________________________________\n"
     ]
    }
   ],
   "source": [
    "reg_model.summary()"
   ]
  },
  {
   "cell_type": "code",
   "execution_count": 15,
   "metadata": {},
   "outputs": [],
   "source": [
    "reg_model.compile(loss='binary_crossentropy', optimizer=optimizers.RMSprop(lr=1e-4), metrics=['acc'])"
   ]
  },
  {
   "cell_type": "code",
   "execution_count": 17,
   "metadata": {},
   "outputs": [
    {
     "name": "stdout",
     "output_type": "stream",
     "text": [
      "Found 4159 images belonging to 2 classes.\n",
      "Found 624 images belonging to 2 classes.\n"
     ]
    }
   ],
   "source": [
    "train_datagen = ImageDataGenerator(rescale=1./255,brightness_range=(0.5, 0.9),\n",
    "                                       horizontal_flip=True,\n",
    "                                       vertical_flip=False)\n",
    "\n",
    "test_datagen = ImageDataGenerator(rescale=1./255)\n",
    "\n",
    "train_generator = train_datagen.flow_from_directory(train_dir, target_size=(150, 150), batch_size=20, class_mode='binary')\n",
    "val_generator = test_datagen.flow_from_directory(test_dir, target_size=(150, 150), batch_size=20, class_mode='binary')"
   ]
  },
  {
   "cell_type": "code",
   "execution_count": 18,
   "metadata": {},
   "outputs": [
    {
     "name": "stdout",
     "output_type": "stream",
     "text": [
      "****************\n",
      "Class #0 = normal\n",
      "Class #1 = pneumonia\n",
      "****************\n"
     ]
    }
   ],
   "source": [
    "# show class indices\n",
    "print('****************')\n",
    "for cls, idx in train_generator.class_indices.items():\n",
    "    print('Class #{} = {}'.format(idx, cls))\n",
    "print('****************')"
   ]
  },
  {
   "cell_type": "code",
   "execution_count": 19,
   "metadata": {},
   "outputs": [
    {
     "name": "stdout",
     "output_type": "stream",
     "text": [
      "Train for 207 steps, validate for 31 steps\n",
      "Epoch 1/10\n",
      "207/207 [==============================] - 51s 246ms/step - loss: 0.3864 - acc: 0.8874 - val_loss: 4.3517 - val_acc: 0.6242\n",
      "Epoch 2/10\n",
      "207/207 [==============================] - 50s 241ms/step - loss: 0.2224 - acc: 0.9369 - val_loss: 3.0000 - val_acc: 0.6242\n",
      "Epoch 3/10\n",
      "207/207 [==============================] - 50s 241ms/step - loss: 0.1750 - acc: 0.9439 - val_loss: 1.0114 - val_acc: 0.7919\n",
      "Epoch 4/10\n",
      "207/207 [==============================] - 50s 239ms/step - loss: 0.1517 - acc: 0.9599 - val_loss: 1.7461 - val_acc: 0.7742\n",
      "Epoch 5/10\n",
      "207/207 [==============================] - 50s 242ms/step - loss: 0.1275 - acc: 0.9630 - val_loss: 6.0582 - val_acc: 0.6597\n",
      "Epoch 6/10\n",
      "207/207 [==============================] - 53s 258ms/step - loss: 0.1149 - acc: 0.9705 - val_loss: 2.0302 - val_acc: 0.7726\n",
      "Epoch 7/10\n",
      "207/207 [==============================] - 68s 327ms/step - loss: 0.1017 - acc: 0.9737 - val_loss: 4.8176 - val_acc: 0.6903\n",
      "Epoch 8/10\n",
      "207/207 [==============================] - 67s 324ms/step - loss: 0.0873 - acc: 0.9773 - val_loss: 3.1816 - val_acc: 0.7339\n",
      "Epoch 9/10\n",
      "207/207 [==============================] - 71s 341ms/step - loss: 0.0845 - acc: 0.9787 - val_loss: 2.3523 - val_acc: 0.7742\n",
      "Epoch 10/10\n",
      "207/207 [==============================] - 73s 354ms/step - loss: 0.0724 - acc: 0.9807 - val_loss: 2.9422 - val_acc: 0.7919\n"
     ]
    }
   ],
   "source": [
    "history = reg_model.fit_generator(\n",
    "    train_generator,\n",
    "    steps_per_epoch=train_generator.samples//train_generator.batch_size,\n",
    "    epochs=10,\n",
    "    validation_data=val_generator, validation_steps=val_generator.samples//val_generator.batch_size,\n",
    "    verbose=1)"
   ]
  },
  {
   "cell_type": "code",
   "execution_count": 27,
   "metadata": {},
   "outputs": [],
   "source": [
    "acc = history.history['acc']\n",
    "val_acc = history.history['val_acc']\n",
    "loss = history.history['loss']\n",
    "val_loss = history.history['val_loss']\n",
    "\n",
    "epochs = range(1, len(acc) + 1)"
   ]
  },
  {
   "cell_type": "code",
   "execution_count": 28,
   "metadata": {},
   "outputs": [
    {
     "data": {
      "image/png": "[encoded data removed]",
      "text/plain": [
       "<Figure size 432x288 with 1 Axes>"
      ]
     },
     "metadata": {
      "needs_background": "light"
     },
     "output_type": "display_data"
    }
   ],
   "source": [
    "plt.plot(epochs, loss, 'bo', label='Training loss')\n",
    "plt.plot(epochs, val_loss, 'b', label = 'Validation loss')\n",
    "plt.title('Training and Validation Loss')\n",
    "plt.xlabel('Epochs')\n",
    "plt.ylabel('Loss')\n",
    "plt.legend()\n",
    "plt.show()"
   ]
  },
  {
   "cell_type": "code",
   "execution_count": 34,
   "metadata": {},
   "outputs": [
    {
     "data": {
      "image/png": "[encoded data removed]",
      "text/plain": [
       "<Figure size 432x288 with 1 Axes>"
      ]
     },
     "metadata": {
      "needs_background": "light"
     },
     "output_type": "display_data"
    }
   ],
   "source": [
    "plt.plot(epochs, acc, 'bo', label='Training accuracy')\n",
    "plt.plot(epochs, val_acc, 'b', label = 'Validation accuracy')\n",
    "plt.title('Training and Validation Accuracy')\n",
    "plt.xlabel('Epochs')\n",
    "plt.ylabel('Accuracy')\n",
    "plt.legend()\n",
    "plt.show()"
   ]
  },
  {
   "cell_type": "code",
   "execution_count": null,
   "metadata": {},
   "outputs": [],
   "source": []
  }
 ],
 "metadata": {
  "kernelspec": {
   "display_name": "Python 3",
   "language": "python",
   "name": "python3"
  },
  "language_info": {
   "codemirror_mode": {
    "name": "ipython",
    "version": 3
   },
   "file_extension": ".py",
   "mimetype": "text/x-python",
   "name": "python",
   "nbconvert_exporter": "python",
   "pygments_lexer": "ipython3",
   "version": "3.7.4"
  }
 },
 "nbformat": 4,
 "nbformat_minor": 4
}
